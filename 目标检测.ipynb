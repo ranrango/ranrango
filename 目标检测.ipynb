{
 "cells": [
  {
   "cell_type": "markdown",
   "id": "b4163a3f",
   "metadata": {},
   "source": [
    "## 目标检测"
   ]
  },
  {
   "cell_type": "markdown",
   "id": "4a4ef078",
   "metadata": {},
   "source": [
    "### 传统目标检测算法\n",
    "\n",
    "- Viola-Jones算法\n",
    "- HOG+SVM算法\n",
    "- DPM算法\n",
    "\n",
    "#### 步骤\n",
    "- 区域选取\n",
    "    - 用滑动窗口（sliding windows）来选取可能出现目标的区域\n",
    "    - 会产生大量冗余框，计算复杂度搞\n",
    "- 特征提取\n",
    "    - SIFT、HOG(梯度的统计信息，梯度可描绘出物体边缘)\n",
    "    - 人工设计的鲁棒性低\n",
    "- 特征分类\n",
    "    - SVM\n",
    "    \n"
   ]
  },
  {
   "cell_type": "markdown",
   "id": "76c61a80",
   "metadata": {},
   "source": [
    "### 深度学习方法"
   ]
  },
  {
   "cell_type": "markdown",
   "id": "b959f6cc",
   "metadata": {},
   "source": [
    "#### two- stage\n",
    "\n",
    "- R-CNN\n",
    "- SPP-Net\n",
    "- Fast R-CNN\n",
    "- Faster R-CNN\n",
    "\n",
    "#### one-stage\n",
    "\n",
    "- YOLO\n",
    "- SDD\n",
    "- YOLOv2\n",
    "- YOLOv3\n",
    "- RetinaNet\n",
    "- CornerNet\n",
    "- CenterNet\n",
    "- YOLOv4"
   ]
  },
  {
   "cell_type": "markdown",
   "id": "a13e2747",
   "metadata": {},
   "source": [
    "#### R-CNN\n",
    "\n",
    "##### 算法步骤\n",
    "\n",
    "- 产生候选区域：对输入的图片使用selective search算法提取大约2000个候选区域并resize成固定大小的图像；\n",
    "- CNN特征提取：将上述图像利用CNN得到固定维度的特征输出；\n",
    "- SVM分类器：使用线性二分类对输出的特征进行分类，得到是否属于此类的结果，并采用难样本挖掘来（hard example mining）平衡正负样本的不平衡；\n",
    "- 位置精修：通过一个回归器，对特征进行边界回归以得到更为精确的目标区域。\n",
    "\n"
   ]
  },
  {
   "cell_type": "markdown",
   "id": "c39960b8",
   "metadata": {},
   "source": [
    "#### Fast R-CNN\n",
    "\n",
    "##### 创新点\n",
    "\n",
    "- 共享卷积\n",
    "- ROL POOLING\n",
    "- 多任务损失\n",
    "\n",
    "##### 算法步骤\n",
    "\n",
    "- 图片输入\n",
    "- 提取候选区域：利用selective search算法在输入图像中提取候选区域，并把这些候选区域按照空间位置映射到最后的卷积特征图上；\n",
    "- 区域归一化：对卷积特征层上的每个候选区域进行rol pooling操作，得到固定维度的输出\n",
    "- 分类与回归：将提取到的特征输入全连接层，然后用softmax进行分类，对候选区域的位置进行回归"
   ]
  },
  {
   "cell_type": "markdown",
   "id": "af1735c9",
   "metadata": {},
   "source": [
    "#### Faster R-CNN\n",
    "\n",
    "##### 算法步骤\n",
    "\n",
    "- 特征提取：使用一组基础的conv+relu+pooling层提取图像的特征映射；\n",
    "- 区域提议：region proposal networks（rpn）网络用于生成区域提议，该层通过softmax判断anchors属于正类还是负类，再利用bounding box回归修正anchors活得精确的proposals;\n",
    "- 感兴趣区域池化：rol pooling层收集输入的特征映射和proposals，综合这些信息后提取proposal feature maps，送入后续全连接层判定目标类别\n",
    "- 分类与回归：利用proposal feature maps判别类别，用bounding box回归修正目标位置"
   ]
  },
  {
   "cell_type": "markdown",
   "id": "db41b2b6",
   "metadata": {},
   "source": [
    "#### 涉及概念\n",
    "\n",
    "##### anchor\n",
    "\n",
    "- 锚框\n",
    "- 一个点9个，不同尺寸大小\n",
    "\n",
    "- 缺点\n",
    "    - 正、负样本不均衡\n",
    "    - 超参难调\n",
    "    - 匹配耗时严重\n",
    "\n",
    "##### RPN\n",
    "\n",
    "- 包含两个分支\n",
    "    - anchor正负样本分类\n",
    "    - 正样本anchor的偏移位置回归\n",
    "    \n",
    "- 损失函数\n",
    "    - 真值：分类真值、偏移真值\n",
    "\n"
   ]
  },
  {
   "cell_type": "markdown",
   "id": "38f3aa9d",
   "metadata": {},
   "source": [
    "### YOLOv1\n",
    "\n",
    "- 无锚框预测\n",
    "\n",
    "#### loss函数\n",
    "\n",
    "- 坐标预测+目标边框置信度预测+类别预测"
   ]
  },
  {
   "cell_type": "markdown",
   "id": "fbf72c2d",
   "metadata": {},
   "source": [
    "### YOLOv2\n",
    "\n",
    "#### 改进\n",
    "- DarkNet网络\n",
    "    - 使用BN\n",
    "- 先验框的设计\n",
    "\n",
    "    - 聚类k-means获取先验框\n",
    "    - 优化偏移公式\n",
    "        - faster R-CNN偏移公式\n",
    "    - 正负样本选取与损失函数的修改\n",
    "- 工程技巧\n",
    "    - 多尺度训练\n",
    "    - 多阶段训练"
   ]
  },
  {
   "cell_type": "markdown",
   "id": "a7409052",
   "metadata": {},
   "source": [
    "### YOLOv3\n",
    "\n",
    "#### 改进\n",
    "\n",
    "- 多尺度特征融合\n",
    "- 多尺度预测\n",
    "- 输出不同尺度特征图\n",
    "\n",
    "- 利用逻辑回归代替softmax函数"
   ]
  },
  {
   "cell_type": "markdown",
   "id": "e01663da",
   "metadata": {},
   "source": [
    "### anchor-free\n",
    "\n",
    "#### 两种思路\n",
    "\n",
    "- 直接预测边框：yolov1\n",
    "- 关键点预测：cornernet、centerner-triplets、centernet-keypoint\n",
    "\n",
    "#### CenterNet\n",
    "\n",
    "##### loss函数\n",
    "\n",
    "- 中心点位置损失\n",
    "- 中心点偏移损失\n",
    "- 物体宽高损失\n",
    "**以上三者相加为总体损失函数**"
   ]
  },
  {
   "cell_type": "markdown",
   "id": "250ebcde",
   "metadata": {},
   "source": [
    "### 多尺度物体检测\n",
    "\n",
    "#### 难点\n",
    "\n",
    "- 过大的下采样率\n",
    "- 过大的感受野\n",
    "- 语义与空间的矛盾\n",
    "- 缺乏特征集合\n",
    "\n",
    "#### 解决方法\n",
    "\n",
    "- 降低下采样率与空洞卷积可以提升小物体的检测性能\n",
    "- 设计更好的anchor可以有效提升proposal的质量\n",
    "- 多尺度的训练可以近似构建出图像金字塔，增加样本多样性\n",
    "- 特征融合构建出特征金字塔，将浅层与深层特征的优势互补\n",
    "\n",
    "\n",
    "### 拥挤物体检测\n",
    "\n",
    "#### 难点\n",
    "\n",
    "- 行人之间的自行遮挡\n",
    "- 行人被其他物体遮挡个"
   ]
  },
  {
   "cell_type": "markdown",
   "id": "e4f5accc",
   "metadata": {},
   "source": [
    "## YOLO系列"
   ]
  },
  {
   "cell_type": "markdown",
   "id": "0d17946f",
   "metadata": {},
   "source": [
    "### 深度学习检测方法\n",
    "\n",
    "- one-stage：yolo系列\n",
    "\n",
    "    - 优点：快，适合做实时检测任务\n",
    "    - 缺点：精度有待提高\n",
    "- two-stage：faster r-cnn，在one-stage的基础上加上了区域提议网络RPN\n",
    "\n",
    "    - 优点：精度高\n",
    "    - 缺点：慢"
   ]
  },
  {
   "cell_type": "markdown",
   "id": "22fd47b4",
   "metadata": {},
   "source": [
    "### 指标\n",
    "\n",
    "#### mAP\n",
    "\n",
    "- 综合衡量检测效果\n",
    "- 不同置信度下的精度和召回率，PR图的面积\n",
    "\n",
    "#### IOU\n",
    "\n",
    "- 交并比\n",
    "\n",
    "#### 精度precision\n",
    "\n",
    "- 预测对的正样本数/预测为正样本的总数\n",
    "\n",
    "#### 召回率recall\n",
    "\n",
    "- 预测对的正样本数/正样本总数\n",
    "\n",
    "#### 置信度\n",
    "\n",
    "- 检测到物体类别的概率"
   ]
  },
  {
   "cell_type": "markdown",
   "id": "0060831b",
   "metadata": {},
   "source": [
    "### YOLOv1\n",
    "\n"
   ]
  }
 ],
 "metadata": {
  "kernelspec": {
   "display_name": "Python 3 (ipykernel)",
   "language": "python",
   "name": "python3"
  },
  "language_info": {
   "codemirror_mode": {
    "name": "ipython",
    "version": 3
   },
   "file_extension": ".py",
   "mimetype": "text/x-python",
   "name": "python",
   "nbconvert_exporter": "python",
   "pygments_lexer": "ipython3",
   "version": "3.8.0"
  },
  "toc": {
   "base_numbering": 1,
   "nav_menu": {},
   "number_sections": true,
   "sideBar": true,
   "skip_h1_title": false,
   "title_cell": "Table of Contents",
   "title_sidebar": "Contents",
   "toc_cell": false,
   "toc_position": {},
   "toc_section_display": true,
   "toc_window_display": false
  }
 },
 "nbformat": 4,
 "nbformat_minor": 5
}
